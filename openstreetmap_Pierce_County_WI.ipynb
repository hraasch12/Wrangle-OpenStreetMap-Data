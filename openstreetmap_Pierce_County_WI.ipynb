{
 "cells": [
  {
   "cell_type": "markdown",
   "metadata": {},
   "source": [
    "# Project: Wrangle OpenStreetMap Data - Pierce County WI\n",
    "\n",
    "#### Heidi Raasch\n",
    "\n",
    "## Table of Contents\n",
    "<ul>\n",
    "<li><a href=\"#intro\">Introduction</a></li>\n",
    "<li><a href=\"#obj\">Objectives</a></li>\n",
    "<li><a href=\"#wrangling\">Auditing the Data</a></li>\n",
    "    <ul>\n",
    "        <li><a href=\"#identify\">Identifying Tag Types</a></li>\n",
    "        <li><a href=\"#auditingk\">Auditing the \"k\" values</a></li>\n",
    "        <li><a href=\"#auditingUsers\">Auditing the Users</a></li>\n",
    "        <li><a href=\"#problems\">Problems Encountered</a></li>\n",
    "        <li><a href=\"#streetTypes\">Street Types</a></li>\n",
    "        <li><a href=\"#zipCodes\">Zip Codes</a></li>\n",
    "    </ul>\n",
    "<li><a href=\"#prepSQL\">Prepare Data for SQL</a></li>\n",
    "<li><a href=\"#dataOverview\">Data Overview</a></li>\n",
    "        <ul>\n",
    "        <li><a href=\"#numNodes\">Number of Nodes</a></li>\n",
    "        <li><a href=\"#numWays\">Number of Ways</a></li>\n",
    "        <li><a href=\"#uniqueUsers\">Number of Unique Users</a></li>\n",
    "        <li><a href=\"#top5Users\">Top 5 Contributing Users</a></li>\n",
    "        <li><a href=\"#numEntries\">Number of Entries</a></li>\n",
    "        <li><a href=\"#numCemetaries\">Number of Cemetaries</a></li>\n",
    "        <li><a href=\"#cemetaryNames\">Cemetary Names</a></li>\n",
    "        <li><a href=\"#numPostOffices\">Number of Post Offices</a></li>\n",
    "        <li><a href=\"#postOfficeNames\">Post Office Names</a></li>\n",
    "        <li><a href=\"#numCuisines\">Number of Cuisines</a></li>\n",
    "        <li><a href=\"#fastFood\">Fast Food Restaurants</a></li>\n",
    "    </ul>\n",
    "<li><a href=\"#additionalIdeas\">Additional Ideas</a></li>\n",
    "<li><a href=\"#references\">References</a></li>\n",
    "</ul>"
   ]
  },
  {
   "cell_type": "markdown",
   "metadata": {},
   "source": [
    "<a id='intro'></a>\n",
    "## Introduction\n",
    "\n",
    "For this project I have chosen to analyze the OpenStreetMap data for Pierce County Wisconsin. I chose this area as my Husband and I plan on moving there in the next 3 years. I will be using data mungling techniques to such as assessing the quality of the data for validity, accuracy, completeness, consistency and uniformity, to clean the OpenStreetMap data. Once the data has been cleand I will use SQL as the data schema for the remainder of the project. \n",
    "\n",
    "<a id='obj'></a>\n",
    "## Objectives\n",
    "- Assess the quality of the data for validity, accuracy, completeness, consistency and uniformity.\n",
    "- Parse and gather data from popular file formats such as .csv, .json, .xml, and .html\n",
    "- Process data from multiple files or very large files that can be cleaned programmatically.\n",
    "- Learn how to store, query, and aggregate data using SQL."
   ]
  },
  {
   "cell_type": "markdown",
   "metadata": {},
   "source": [
    "<a id='wrangling'></a>\n",
    "## Auditing the Data\n",
    "\n",
    "<a id='identify'></a>\n",
    "### Identify Tag Types"
   ]
  },
  {
   "cell_type": "markdown",
   "metadata": {},
   "source": [
    "In order to begin auditing the data I used identifyTags.py to identify the tags used in the datafile. The tags that I will be using for this project are node and way. \n",
    "\n",
    "A node is a single point in space defined by its longitude, latitude, and node id. A way is an ordered list of nodes."
   ]
  },
  {
   "cell_type": "markdown",
   "metadata": {},
   "source": [
    "<a id='auditingk'></a>\n",
    "### Auditing the \"k\" values\n",
    "\n",
    "I will begin looking for any problems that may need attention before importing into a database.\n",
    "\n",
    "First I will look for tags with only lowercase letters, then I will look for lowercase letters separated by a colon, lastly I will look for any problem characters.  "
   ]
  },
  {
   "cell_type": "code",
   "execution_count": null,
   "metadata": {},
   "outputs": [],
   "source": [
    "lower = re.compile(r'^([a-z]|_)*$')\n",
    "lower_colon = re.compile(r'^([a-z]|_)*:([a-z]|_)*$')\n",
    "problemchars = re.compile(r'[=\\+/&<>;\\'\"\\?%#$@\\,\\. \\t\\r\\n]')"
   ]
  },
  {
   "cell_type": "markdown",
   "metadata": {},
   "source": [
    "To do this I will use the interparse method of ElementTree to create a dictionary of tags that met those criteria. The full code can be found in auditingK.py."
   ]
  },
  {
   "cell_type": "code",
   "execution_count": null,
   "metadata": {},
   "outputs": [],
   "source": [
    "{'lower': 43556, 'lower_colon': 54836, 'other': 2509, 'problemchars': 0}"
   ]
  },
  {
   "cell_type": "markdown",
   "metadata": {},
   "source": [
    "<a id='auditingUsers'></a>\n",
    "## Auditing the Users"
   ]
  },
  {
   "cell_type": "markdown",
   "metadata": {},
   "source": [
    "For fun I looked into how many users contributed to the map of Pierce County WI using uniqueUsers.py. \n",
    "\n",
    "I found that 210 unique users made contributions. "
   ]
  },
  {
   "cell_type": "markdown",
   "metadata": {},
   "source": [
    "<a id='problems'></a>\n",
    "## Problems Encountered\n",
    "\n",
    "- The format of the street names is not consistent. Some were abbreviated, some were in uppercase, and some used different abbreviations. \n",
    "\n",
    "- Zip codes were in inconsistent formats. "
   ]
  },
  {
   "cell_type": "markdown",
   "metadata": {},
   "source": [
    "<a id='streetTypes'></a> \n",
    "### Street Types"
   ]
  },
  {
   "cell_type": "markdown",
   "metadata": {},
   "source": [
    "First issue identified when working with this dataset was the inconsistent use of abbreviations for street types in the street names. In the following code, I create a list of street types that I would expect. Then create a dictionary of the types that are not in my expected list. Using that list I map the abbreviations used in the dataset to the format I specify. "
   ]
  },
  {
   "cell_type": "code",
   "execution_count": 6,
   "metadata": {},
   "outputs": [],
   "source": [
    "street_type_re = re.compile(r'\\b\\S+\\.?$', re.IGNORECASE)\n",
    "\n",
    "expected = [\"Street\", \"Avenue\", \"Boulevard\", \"Drive\", \"Court\", \"Place\", \"Square\", \"Lane\", \"Road\", \n",
    "            \"Trail\", \"Parkway\", \"Commons\",\"East\", \"North\", \"West\",\"South\"]\n",
    "\n"
   ]
  },
  {
   "cell_type": "markdown",
   "metadata": {},
   "source": [
    "I used the code in streetTypes.py to search through the datafile and compare the values to the expected list. I then print the list of values identified and print them out for review. "
   ]
  },
  {
   "cell_type": "code",
   "execution_count": 7,
   "metadata": {},
   "outputs": [
    {
     "name": "stdout",
     "output_type": "stream",
     "text": [
      "{'47': {'47'},\n",
      " '5': {'East Main Street #5'},\n",
      " 'Ave': {'W Race Ave'},\n",
      " 'Circle': {'Bauer Circle',\n",
      "            'Frederick Circle',\n",
      "            'Hackberry Circle',\n",
      "            'Melville Circle',\n",
      "            'Sandpiper Circle'},\n",
      " 'E': {'2nd St E'},\n",
      " 'FLORA': {'CORNER OF WALNUT AND FLORA'},\n",
      " 'Knoll': {'Highview Knoll'},\n",
      " 'Ln': {'Learning Ln'},\n",
      " 'N': {'LAKE ST N'},\n",
      " 'Path': {'Neill Path'},\n",
      " 'RD': {'ORRIN RD'},\n",
      " 'Rd': {'Tyler Rd', 'Twin Bluff Rd'},\n",
      " 'Rd.': {'Industrial Rd.'},\n",
      " 'ST': {'BROAD ST'},\n",
      " 'ST.': {'BROAD ST.', 'DEXTER ST.'},\n",
      " 'STREET': {'2000 OLD WEST MAIN STREET'},\n",
      " 'St': {'114th St'},\n",
      " 'St.': {'N. Maple St.'},\n",
      " 'WI-29': {'WI-29'},\n",
      " 'Way': {'Village Way', 'Teal Way', 'Sherman Way', 'Glacier Way'},\n",
      " 'Y': {'County Road Y'}}\n"
     ]
    }
   ],
   "source": [
    "import xml.etree.cElementTree as ET\n",
    "import pprint\n",
    "import re\n",
    "from collections import defaultdict\n",
    "\n",
    "def audit_street_type(street_types, street_name):\n",
    "    m = street_type_re.search(street_name)\n",
    "    if m:\n",
    "        street_type = m.group()\n",
    "        if street_type not in expected:\n",
    "            street_types[street_type].add(street_name)\n",
    "\n",
    "\n",
    "def is_street_name(elem):\n",
    "    return (elem.attrib['k'] == \"addr:street\")\n",
    "\n",
    "\n",
    "def audit(osmfile):\n",
    "    osm_file = open(osmfile, \"r\", errors = 'ignore')\n",
    "    street_types = defaultdict(set)\n",
    "    for event, elem in ET.iterparse(osm_file, events=(\"start\",)):\n",
    "\n",
    "        if elem.tag == \"node\" or elem.tag == \"way\":\n",
    "            for tag in elem.iter(\"tag\"):\n",
    "                if is_street_name(tag):\n",
    "                    audit_street_type(street_types, tag.attrib['v'])\n",
    "    osm_file.close()\n",
    "    return street_types\n",
    "\n",
    "pierce_street_types = audit(datafile)\n",
    "pprint.pprint(dict(pierce_street_types))"
   ]
  },
  {
   "cell_type": "markdown",
   "metadata": {},
   "source": [
    "There are quite a few that are abbreviated in the incorrect format. Now I will use the code in updateStreetTypes.py to update the street names with the name format I identified previously."
   ]
  },
  {
   "cell_type": "markdown",
   "metadata": {},
   "source": [
    "<a id='zipCodes'></a>\n",
    "### Zip Codes\n",
    "\n",
    "Another problem with this dataset is the zip codes. Some zip codes were in different formats and some were missing completely. First I created a dictionary of the zipcodes that were in an invalid format. \n",
    "\n",
    "The only issue with the zipcode appears that WI is included in some of them so I corrected those records. \n",
    "\n",
    "The code for doing hte identification and cleaning of the postal codes can be found in zipCodes.py."
   ]
  },
  {
   "cell_type": "markdown",
   "metadata": {},
   "source": [
    "<a id='prepSQL'></a>\n",
    "### Prepare Data for SQL\n",
    "\n",
    "Now that the data has been cleaned it's time to prepare the data for loading into SQL. \n",
    "\n",
    "The XML data will be parsed through and converted into tabular format into CSV files. The CSV files can be imported into sqlite. The code used for this process can be found in sqlPrep.py."
   ]
  },
  {
   "cell_type": "code",
   "execution_count": 12,
   "metadata": {},
   "outputs": [],
   "source": [
    "NODES_PATH = \"nodes.csv\"\n",
    "NODE_TAGS_PATH = \"nodes_tags.csv\"\n",
    "WAYS_PATH = \"ways.csv\"\n",
    "WAY_NODES_PATH = \"ways_nodes.csv\"\n",
    "WAY_TAGS_PATH = \"ways_tags.csv\"\n",
    "\n",
    "LOWER_COLON = re.compile(r'^([a-z]|_)+:([a-z]|_)+')\n",
    "PROBLEMCHARS = re.compile(r'[=\\+/&<>;\\'\"\\?%#$@\\,\\. \\t\\r\\n]')\n",
    "\n",
    "SCHEMA = schema.schema\n",
    "\n",
    "NODE_FIELDS = ['id', 'lat', 'lon', 'user', 'uid', 'version', 'changeset', 'timestamp']\n",
    "NODE_TAGS_FIELDS = ['id', 'key', 'value', 'type']\n",
    "WAY_FIELDS = ['id', 'user', 'uid', 'version', 'changeset', 'timestamp']\n",
    "WAY_TAGS_FIELDS = ['id', 'key', 'value', 'type']\n",
    "WAY_NODES_FIELDS = ['id', 'node_id', 'position']\n",
    "\n",
    "\n",
    "def shape_element(element, node_attr_fields=NODE_FIELDS, way_attr_fields=WAY_FIELDS,\n",
    "                  problem_chars=PROBLEMCHARS, default_tag_type='regular'):\n",
    "\n",
    "    node_attribs = {}\n",
    "    way_attribs = {}\n",
    "    way_nodes = []\n",
    "    tags = []  # Handle secondary tags the same way for both node and way elements\n",
    "\n",
    "    if element.tag == 'node':\n",
    "        for name, value in element.attrib.items():\n",
    "            if name in node_attr_fields:\n",
    "                node_attribs[name] = value\n",
    "\n",
    "        for secondary in element.iter():\n",
    "            if secondary.tag == 'tag':\n",
    "                if problem_chars.match(secondary.attrib['k']) is not None:\n",
    "                    continue\n",
    "                else:\n",
    "                    new_dict = tag_dictionary(element, secondary, default_tag_type)\n",
    "                    if new_dict is not None:\n",
    "                        tags.append(new_dict)\n",
    "        return {'node': node_attribs, 'node_tags': tags}\n",
    "\n",
    "    elif element.tag == 'way':\n",
    "        for name, value in element.attrib.items():\n",
    "            if name in way_attr_fields:\n",
    "                way_attribs[name] = value\n",
    "\n",
    "        counter = 0\n",
    "        for secondary in element.iter():\n",
    "            if secondary.tag == 'tag':\n",
    "                if problem_chars.match(secondary.attrib['k']) is not None:\n",
    "                    continue\n",
    "                else:\n",
    "                    new_dict = tag_dictionary(element, secondary, default_tag_type)\n",
    "                    if new_dict is not None:\n",
    "                        tags.append(new_dict)\n",
    "            elif secondary.tag == 'nd':\n",
    "                newnd = {}\n",
    "                newnd['id'] = element.attrib['id']\n",
    "                newnd['node_id'] = secondary.attrib['ref']\n",
    "                newnd['position'] = counter\n",
    "                counter += 1\n",
    "                way_nodes.append(newnd)\n",
    "        return {'way': way_attribs, 'way_nodes': way_nodes, 'way_tags': tags}"
   ]
  },
  {
   "cell_type": "markdown",
   "metadata": {},
   "source": [
    "<a id='dataOverview'></a>\n",
    "## Data Overview\n",
    "\n",
    "Now that the data is available in SQL I will start exploring it using SQL queries. I will be using the ipython-sql module to connect to the database and run the queries."
   ]
  },
  {
   "cell_type": "code",
   "execution_count": 1,
   "metadata": {},
   "outputs": [],
   "source": [
    "%load_ext sql\n",
    "%sql sqlite:///om_pierce_county.db\n",
    "%config SqlMagic.feedback = False   "
   ]
  },
  {
   "cell_type": "markdown",
   "metadata": {},
   "source": [
    "<a id='numNodes'></a>\n",
    "### Number of Nodes"
   ]
  },
  {
   "cell_type": "code",
   "execution_count": 4,
   "metadata": {},
   "outputs": [
    {
     "name": "stdout",
     "output_type": "stream",
     "text": [
      " * sqlite:///om_pierce_county.db\n"
     ]
    },
    {
     "data": {
      "text/html": [
       "<table>\n",
       "    <tr>\n",
       "        <th>No_Nodes</th>\n",
       "    </tr>\n",
       "    <tr>\n",
       "        <td>333470</td>\n",
       "    </tr>\n",
       "</table>"
      ],
      "text/plain": [
       "[(333470,)]"
      ]
     },
     "execution_count": 4,
     "metadata": {},
     "output_type": "execute_result"
    }
   ],
   "source": [
    "%sql SELECT COUNT(*) AS No_Nodes FROM nodes"
   ]
  },
  {
   "cell_type": "markdown",
   "metadata": {},
   "source": [
    "<a id='numWays'></a>\n",
    "### Number of Ways"
   ]
  },
  {
   "cell_type": "code",
   "execution_count": 6,
   "metadata": {},
   "outputs": [
    {
     "name": "stdout",
     "output_type": "stream",
     "text": [
      " * sqlite:///om_pierce_county.db\n"
     ]
    },
    {
     "data": {
      "text/html": [
       "<table>\n",
       "    <tr>\n",
       "        <th>No_Ways</th>\n",
       "    </tr>\n",
       "    <tr>\n",
       "        <td>22074</td>\n",
       "    </tr>\n",
       "</table>"
      ],
      "text/plain": [
       "[(22074,)]"
      ]
     },
     "execution_count": 6,
     "metadata": {},
     "output_type": "execute_result"
    }
   ],
   "source": [
    "%sql SELECT COUNT(*) AS No_Ways FROM ways;"
   ]
  },
  {
   "cell_type": "markdown",
   "metadata": {},
   "source": [
    "<a id='uniqueUsers'></a>\n",
    "### Number of Unique Users"
   ]
  },
  {
   "cell_type": "code",
   "execution_count": 7,
   "metadata": {},
   "outputs": [
    {
     "name": "stdout",
     "output_type": "stream",
     "text": [
      " * sqlite:///om_pierce_county.db\n"
     ]
    },
    {
     "data": {
      "text/html": [
       "<table>\n",
       "    <tr>\n",
       "        <th>No_Unique_Users</th>\n",
       "    </tr>\n",
       "    <tr>\n",
       "        <td>194</td>\n",
       "    </tr>\n",
       "</table>"
      ],
      "text/plain": [
       "[(194,)]"
      ]
     },
     "execution_count": 7,
     "metadata": {},
     "output_type": "execute_result"
    }
   ],
   "source": [
    "%%sql\n",
    "SELECT COUNT(DISTINCT(users.uid)) as No_Unique_Users\n",
    "FROM (SELECT uid FROM nodes UNION ALL SELECT uid FROM ways) as users;"
   ]
  },
  {
   "cell_type": "markdown",
   "metadata": {},
   "source": [
    "<a id='top5Users'></a>\n",
    "### Top 5 Contributing Users"
   ]
  },
  {
   "cell_type": "code",
   "execution_count": 8,
   "metadata": {},
   "outputs": [
    {
     "name": "stdout",
     "output_type": "stream",
     "text": [
      " * sqlite:///om_pierce_county.db\n"
     ]
    },
    {
     "data": {
      "text/html": [
       "<table>\n",
       "    <tr>\n",
       "        <th>User Name</th>\n",
       "        <th>Contributions</th>\n",
       "    </tr>\n",
       "    <tr>\n",
       "        <td>jumbanho</td>\n",
       "        <td>117783</td>\n",
       "    </tr>\n",
       "    <tr>\n",
       "        <td>woodpeck_fixbot</td>\n",
       "        <td>46992</td>\n",
       "    </tr>\n",
       "    <tr>\n",
       "        <td>iandees</td>\n",
       "        <td>44623</td>\n",
       "    </tr>\n",
       "    <tr>\n",
       "        <td>Omnific</td>\n",
       "        <td>39211</td>\n",
       "    </tr>\n",
       "    <tr>\n",
       "        <td>PrometheusAvV</td>\n",
       "        <td>17081</td>\n",
       "    </tr>\n",
       "</table>"
      ],
      "text/plain": [
       "[('jumbanho', 117783),\n",
       " ('woodpeck_fixbot', 46992),\n",
       " ('iandees', 44623),\n",
       " ('Omnific', 39211),\n",
       " ('PrometheusAvV', 17081)]"
      ]
     },
     "execution_count": 8,
     "metadata": {},
     "output_type": "execute_result"
    }
   ],
   "source": [
    "%%sql\n",
    "SELECT users.user as 'User Name', COUNT(*) as Contributions\n",
    "FROM (SELECT user FROM nodes UNION ALL SELECT user FROM ways) as users\n",
    "GROUP BY users.user\n",
    "ORDER BY Contributions DESC\n",
    "LIMIT 5;"
   ]
  },
  {
   "cell_type": "markdown",
   "metadata": {},
   "source": [
    "<a id='numEntries'></a>\n",
    "### Number of Entries"
   ]
  },
  {
   "cell_type": "code",
   "execution_count": 9,
   "metadata": {},
   "outputs": [
    {
     "name": "stdout",
     "output_type": "stream",
     "text": [
      " * sqlite:///om_pierce_county.db\n"
     ]
    },
    {
     "data": {
      "text/html": [
       "<table>\n",
       "    <tr>\n",
       "        <th>No_Entries</th>\n",
       "    </tr>\n",
       "    <tr>\n",
       "        <td>355544</td>\n",
       "    </tr>\n",
       "</table>"
      ],
      "text/plain": [
       "[(355544,)]"
      ]
     },
     "execution_count": 9,
     "metadata": {},
     "output_type": "execute_result"
    }
   ],
   "source": [
    "%%sql\n",
    "SELECT SUM(no) as No_Entries\n",
    "FROM\n",
    "(SELECT COUNT(*) as no\n",
    "FROM (SELECT uid FROM nodes UNION ALL SELECT uid FROM ways) as sub\n",
    "GROUP BY sub.uid)"
   ]
  },
  {
   "cell_type": "markdown",
   "metadata": {},
   "source": [
    "<a id='numCemetaries'></a>\n",
    "### Number of Cemetaries"
   ]
  },
  {
   "cell_type": "code",
   "execution_count": 10,
   "metadata": {},
   "outputs": [
    {
     "name": "stdout",
     "output_type": "stream",
     "text": [
      " * sqlite:///om_pierce_county.db\n"
     ]
    },
    {
     "data": {
      "text/html": [
       "<table>\n",
       "    <tr>\n",
       "        <th>No_Cemeteries</th>\n",
       "    </tr>\n",
       "    <tr>\n",
       "        <td>25</td>\n",
       "    </tr>\n",
       "</table>"
      ],
      "text/plain": [
       "[(25,)]"
      ]
     },
     "execution_count": 10,
     "metadata": {},
     "output_type": "execute_result"
    }
   ],
   "source": [
    "%%sql\n",
    "SELECT count(*) as No_Cemeteries FROM nodes_tags\n",
    "WHERE value like '%Cemetery%'"
   ]
  },
  {
   "cell_type": "markdown",
   "metadata": {},
   "source": [
    "<a id='cemetaryNames'></a>\n",
    "### Cemetary Names"
   ]
  },
  {
   "cell_type": "code",
   "execution_count": 37,
   "metadata": {},
   "outputs": [
    {
     "name": "stdout",
     "output_type": "stream",
     "text": [
      " * sqlite:///om_pierce_county.db\n"
     ]
    },
    {
     "data": {
      "text/html": [
       "<table>\n",
       "    <tr>\n",
       "        <th>Cemetery_Name</th>\n",
       "    </tr>\n",
       "    <tr>\n",
       "        <td>Beldenville Cemetery</td>\n",
       "    </tr>\n",
       "    <tr>\n",
       "        <td>Big River Cemetery</td>\n",
       "    </tr>\n",
       "    <tr>\n",
       "        <td>Diamond Bluff Cemetery</td>\n",
       "    </tr>\n",
       "    <tr>\n",
       "        <td>Esdaile Cemetery</td>\n",
       "    </tr>\n",
       "    <tr>\n",
       "        <td>Farm Hill Catholic Cemetery</td>\n",
       "    </tr>\n",
       "    <tr>\n",
       "        <td>Free Home Cemetery</td>\n",
       "    </tr>\n",
       "    <tr>\n",
       "        <td>Gilman Lutheran Cemetery</td>\n",
       "    </tr>\n",
       "    <tr>\n",
       "        <td>Greenwood Valley Cemetery</td>\n",
       "    </tr>\n",
       "    <tr>\n",
       "        <td>Lost Creek Cemetery</td>\n",
       "    </tr>\n",
       "    <tr>\n",
       "        <td>Maiden Rock Cemetery</td>\n",
       "    </tr>\n",
       "    <tr>\n",
       "        <td>Maple Grove Cemetery</td>\n",
       "    </tr>\n",
       "    <tr>\n",
       "        <td>Mission Covenant Cemetery</td>\n",
       "    </tr>\n",
       "    <tr>\n",
       "        <td>Mount Olivet Cemetery</td>\n",
       "    </tr>\n",
       "    <tr>\n",
       "        <td>Oak Ridge Cemetery</td>\n",
       "    </tr>\n",
       "    <tr>\n",
       "        <td>Pine Glen Cemetery</td>\n",
       "    </tr>\n",
       "    <tr>\n",
       "        <td>Plum City Union Cemetery</td>\n",
       "    </tr>\n",
       "    <tr>\n",
       "        <td>Poplar Hill Cemetery</td>\n",
       "    </tr>\n",
       "    <tr>\n",
       "        <td>Porcupine Cemetery</td>\n",
       "    </tr>\n",
       "    <tr>\n",
       "        <td>Saint Josephs Catholic Cemetery</td>\n",
       "    </tr>\n",
       "    <tr>\n",
       "        <td>Saint Josephs Cemetery</td>\n",
       "    </tr>\n",
       "    <tr>\n",
       "        <td>Salem Lutheran Cemetery</td>\n",
       "    </tr>\n",
       "    <tr>\n",
       "        <td>Spring Lake Cemetery</td>\n",
       "    </tr>\n",
       "    <tr>\n",
       "        <td>Tabor Cemetery</td>\n",
       "    </tr>\n",
       "    <tr>\n",
       "        <td>Thurston Hill Cemetery</td>\n",
       "    </tr>\n",
       "    <tr>\n",
       "        <td>Zion Covenant Cemetery</td>\n",
       "    </tr>\n",
       "</table>"
      ],
      "text/plain": [
       "[('Beldenville Cemetery',),\n",
       " ('Big River Cemetery',),\n",
       " ('Diamond Bluff Cemetery',),\n",
       " ('Esdaile Cemetery',),\n",
       " ('Farm Hill Catholic Cemetery',),\n",
       " ('Free Home Cemetery',),\n",
       " ('Gilman Lutheran Cemetery',),\n",
       " ('Greenwood Valley Cemetery',),\n",
       " ('Lost Creek Cemetery',),\n",
       " ('Maiden Rock Cemetery',),\n",
       " ('Maple Grove Cemetery',),\n",
       " ('Mission Covenant Cemetery',),\n",
       " ('Mount Olivet Cemetery',),\n",
       " ('Oak Ridge Cemetery',),\n",
       " ('Pine Glen Cemetery',),\n",
       " ('Plum City Union Cemetery',),\n",
       " ('Poplar Hill Cemetery',),\n",
       " ('Porcupine Cemetery',),\n",
       " ('Saint Josephs Catholic Cemetery',),\n",
       " ('Saint Josephs Cemetery',),\n",
       " ('Salem Lutheran Cemetery',),\n",
       " ('Spring Lake Cemetery',),\n",
       " ('Tabor Cemetery',),\n",
       " ('Thurston Hill Cemetery',),\n",
       " ('Zion Covenant Cemetery',)]"
      ]
     },
     "execution_count": 37,
     "metadata": {},
     "output_type": "execute_result"
    }
   ],
   "source": [
    "%%sql\n",
    "SELECT nwt.value as Cemetery_Name\n",
    "FROM nodes_tags as nwt\n",
    "WHERE nwt.key='name' and nwt.value LIKE '%Cemetery%'\n",
    "ORDER BY nwt.value;"
   ]
  },
  {
   "cell_type": "markdown",
   "metadata": {},
   "source": [
    "<a id='numPostOffices'></a>\n",
    "### Number of Post Offices"
   ]
  },
  {
   "cell_type": "code",
   "execution_count": 43,
   "metadata": {},
   "outputs": [
    {
     "name": "stdout",
     "output_type": "stream",
     "text": [
      " * sqlite:///om_pierce_county.db\n"
     ]
    },
    {
     "data": {
      "text/html": [
       "<table>\n",
       "    <tr>\n",
       "        <th>No_Post_Office</th>\n",
       "    </tr>\n",
       "    <tr>\n",
       "        <td>6</td>\n",
       "    </tr>\n",
       "</table>"
      ],
      "text/plain": [
       "[(6,)]"
      ]
     },
     "execution_count": 43,
     "metadata": {},
     "output_type": "execute_result"
    }
   ],
   "source": [
    "%%sql\n",
    "SELECT count(distinct value) as No_Post_Office\n",
    "FROM nodes_tags\n",
    "WHERE value like '%Post Office'\n"
   ]
  },
  {
   "cell_type": "markdown",
   "metadata": {},
   "source": [
    "<a id='postOfficeNames'></a>\n",
    "### Post Office Names"
   ]
  },
  {
   "cell_type": "code",
   "execution_count": 40,
   "metadata": {},
   "outputs": [
    {
     "name": "stdout",
     "output_type": "stream",
     "text": [
      " * sqlite:///om_pierce_county.db\n"
     ]
    },
    {
     "data": {
      "text/html": [
       "<table>\n",
       "    <tr>\n",
       "        <th>Post_Office</th>\n",
       "    </tr>\n",
       "    <tr>\n",
       "        <td>East Ellsworth Post Office</td>\n",
       "    </tr>\n",
       "    <tr>\n",
       "        <td>Ellsworth Post Office</td>\n",
       "    </tr>\n",
       "    <tr>\n",
       "        <td>Hastings Post Office</td>\n",
       "    </tr>\n",
       "    <tr>\n",
       "        <td>Red Wing Post Office</td>\n",
       "    </tr>\n",
       "    <tr>\n",
       "        <td>River Falls Post Office</td>\n",
       "    </tr>\n",
       "    <tr>\n",
       "        <td>Welch Post Office</td>\n",
       "    </tr>\n",
       "</table>"
      ],
      "text/plain": [
       "[('East Ellsworth Post Office',),\n",
       " ('Ellsworth Post Office',),\n",
       " ('Hastings Post Office',),\n",
       " ('Red Wing Post Office',),\n",
       " ('River Falls Post Office',),\n",
       " ('Welch Post Office',)]"
      ]
     },
     "execution_count": 40,
     "metadata": {},
     "output_type": "execute_result"
    }
   ],
   "source": [
    "%%sql\n",
    "SELECT value as Post_Office\n",
    "FROM nodes_tags\n",
    "WHERE value like '%Post Office'\n",
    "GROUP BY value\n",
    "ORDER BY value"
   ]
  },
  {
   "cell_type": "markdown",
   "metadata": {},
   "source": [
    "<a id='numCuisines'></a>\n",
    "### Number of Cuisines"
   ]
  },
  {
   "cell_type": "code",
   "execution_count": 19,
   "metadata": {},
   "outputs": [
    {
     "name": "stdout",
     "output_type": "stream",
     "text": [
      " * sqlite:///om_pierce_county.db\n"
     ]
    },
    {
     "data": {
      "text/html": [
       "<table>\n",
       "    <tr>\n",
       "        <th>Cuisine</th>\n",
       "        <th>Number</th>\n",
       "    </tr>\n",
       "    <tr>\n",
       "        <td>american</td>\n",
       "        <td>2</td>\n",
       "    </tr>\n",
       "    <tr>\n",
       "        <td>chinese</td>\n",
       "        <td>2</td>\n",
       "    </tr>\n",
       "    <tr>\n",
       "        <td>pizza</td>\n",
       "        <td>2</td>\n",
       "    </tr>\n",
       "    <tr>\n",
       "        <td>barbecue</td>\n",
       "        <td>1</td>\n",
       "    </tr>\n",
       "    <tr>\n",
       "        <td>chicken3</td>\n",
       "        <td>1</td>\n",
       "    </tr>\n",
       "    <tr>\n",
       "        <td>coffee_shop</td>\n",
       "        <td>1</td>\n",
       "    </tr>\n",
       "    <tr>\n",
       "        <td>ice_cream</td>\n",
       "        <td>1</td>\n",
       "    </tr>\n",
       "    <tr>\n",
       "        <td>italian;american;mexican</td>\n",
       "        <td>1</td>\n",
       "    </tr>\n",
       "    <tr>\n",
       "        <td>japanese</td>\n",
       "        <td>1</td>\n",
       "    </tr>\n",
       "</table>"
      ],
      "text/plain": [
       "[('american', 2),\n",
       " ('chinese', 2),\n",
       " ('pizza', 2),\n",
       " ('barbecue', 1),\n",
       " ('chicken3', 1),\n",
       " ('coffee_shop', 1),\n",
       " ('ice_cream', 1),\n",
       " ('italian;american;mexican', 1),\n",
       " ('japanese', 1)]"
      ]
     },
     "execution_count": 19,
     "metadata": {},
     "output_type": "execute_result"
    }
   ],
   "source": [
    "%%sql\n",
    "SELECT nwt.value as Cuisine, COUNT(*) as Number\n",
    "FROM (SELECT * FROM nodes_tags UNION ALL SELECT * FROM ways_tags) as nwt\n",
    "      INNER JOIN\n",
    "     (SELECT DISTINCT(id) FROM nodes_tags WHERE nodes_tags.value='restaurant'\n",
    "      AND nodes_tags.id NOT IN\n",
    "                       (SELECT ways_nodes.node_id FROM ways_nodes\n",
    "                        JOIN\n",
    "                       (SELECT DISTINCT(id) FROM ways_tags WHERE ways_tags.value='restaurant') as dnwt\n",
    "                       ON ways_nodes.id = dnwt.id)\n",
    "      UNION ALL\n",
    "      SELECT DISTINCT(id) FROM ways_tags WHERE ways_tags.value='restaurant') as dwt\n",
    "      ON nwt.id=dwt.id\n",
    "WHERE nwt.key='cuisine'\n",
    "GROUP BY nwt.value\n",
    "ORDER BY Number DESC\n",
    "LIMIT 10;"
   ]
  },
  {
   "cell_type": "markdown",
   "metadata": {},
   "source": [
    "<a id='fastFood'></a>\n",
    "### Fast Food Restaurants"
   ]
  },
  {
   "cell_type": "code",
   "execution_count": 25,
   "metadata": {},
   "outputs": [
    {
     "name": "stdout",
     "output_type": "stream",
     "text": [
      " * sqlite:///om_pierce_county.db\n"
     ]
    },
    {
     "data": {
      "text/html": [
       "<table>\n",
       "    <tr>\n",
       "        <th>Restaurant</th>\n",
       "        <th>Number</th>\n",
       "    </tr>\n",
       "    <tr>\n",
       "        <td>Dairy Queen</td>\n",
       "        <td>3</td>\n",
       "    </tr>\n",
       "    <tr>\n",
       "        <td>McDonald&#x27;s</td>\n",
       "        <td>2</td>\n",
       "    </tr>\n",
       "    <tr>\n",
       "        <td>Subway</td>\n",
       "        <td>2</td>\n",
       "    </tr>\n",
       "    <tr>\n",
       "        <td>Culver&#x27;s</td>\n",
       "        <td>1</td>\n",
       "    </tr>\n",
       "    <tr>\n",
       "        <td>Jimmy John&#x27;s</td>\n",
       "        <td>1</td>\n",
       "    </tr>\n",
       "    <tr>\n",
       "        <td>Randy&#x27;s</td>\n",
       "        <td>1</td>\n",
       "    </tr>\n",
       "</table>"
      ],
      "text/plain": [
       "[('Dairy Queen', 3),\n",
       " (\"McDonald's\", 2),\n",
       " ('Subway', 2),\n",
       " (\"Culver's\", 1),\n",
       " (\"Jimmy John's\", 1),\n",
       " (\"Randy's\", 1)]"
      ]
     },
     "execution_count": 25,
     "metadata": {},
     "output_type": "execute_result"
    }
   ],
   "source": [
    "%%sql\n",
    "SELECT nwt.value as Restaurant, COUNT(*) as Number\n",
    "FROM (SELECT * FROM nodes_tags UNION ALL SELECT * FROM ways_tags) as nwt\n",
    "      JOIN\n",
    "     (SELECT DISTINCT(id) FROM nodes_tags WHERE nodes_tags.value='fast_food'\n",
    "      AND nodes_tags.id NOT IN\n",
    "                       (SELECT ways_nodes.node_id FROM ways_nodes\n",
    "                        JOIN\n",
    "                       (SELECT DISTINCT(id) FROM ways_tags WHERE ways_tags.value='fast_food') as dnt\n",
    "                       ON ways_nodes.id = dnt.id)\n",
    "      UNION ALL\n",
    "      SELECT DISTINCT(id) FROM ways_tags WHERE ways_tags.value='fast_food') as wt\n",
    "      ON nwt.id=wt.id\n",
    "WHERE nwt.key='name'\n",
    "GROUP BY nwt.value\n",
    "ORDER BY Number DESC\n",
    "LIMIT 10;"
   ]
  },
  {
   "cell_type": "markdown",
   "metadata": {},
   "source": [
    "<a id='additionalIdeas'></a>\n",
    "## Additional Ideas"
   ]
  },
  {
   "cell_type": "markdown",
   "metadata": {},
   "source": [
    "Since the information is entered in by a variety of users and there is no standardization. To improve this a standard form for entry could be used. That would ensure that each of the amentities, such as restaurants, would have the same information available. This would result in more complete results and better statistics."
   ]
  },
  {
   "cell_type": "code",
   "execution_count": 24,
   "metadata": {},
   "outputs": [
    {
     "name": "stdout",
     "output_type": "stream",
     "text": [
      " * sqlite:///om_pierce_county.db\n"
     ]
    },
    {
     "data": {
      "text/html": [
       "<table>\n",
       "    <tr>\n",
       "        <th>id</th>\n",
       "        <th>Number</th>\n",
       "    </tr>\n",
       "    <tr>\n",
       "        <td>802228084</td>\n",
       "        <td>2</td>\n",
       "    </tr>\n",
       "    <tr>\n",
       "        <td>802192124</td>\n",
       "        <td>2</td>\n",
       "    </tr>\n",
       "    <tr>\n",
       "        <td>5577469201</td>\n",
       "        <td>5</td>\n",
       "    </tr>\n",
       "    <tr>\n",
       "        <td>5291408314</td>\n",
       "        <td>4</td>\n",
       "    </tr>\n",
       "    <tr>\n",
       "        <td>481461235</td>\n",
       "        <td>3</td>\n",
       "    </tr>\n",
       "    <tr>\n",
       "        <td>458589351</td>\n",
       "        <td>5</td>\n",
       "    </tr>\n",
       "    <tr>\n",
       "        <td>4486234357</td>\n",
       "        <td>2</td>\n",
       "    </tr>\n",
       "    <tr>\n",
       "        <td>4486234327</td>\n",
       "        <td>3</td>\n",
       "    </tr>\n",
       "    <tr>\n",
       "        <td>3821674294</td>\n",
       "        <td>6</td>\n",
       "    </tr>\n",
       "    <tr>\n",
       "        <td>334633471</td>\n",
       "        <td>4</td>\n",
       "    </tr>\n",
       "    <tr>\n",
       "        <td>319416603</td>\n",
       "        <td>3</td>\n",
       "    </tr>\n",
       "    <tr>\n",
       "        <td>319416602</td>\n",
       "        <td>3</td>\n",
       "    </tr>\n",
       "    <tr>\n",
       "        <td>2912759369</td>\n",
       "        <td>7</td>\n",
       "    </tr>\n",
       "    <tr>\n",
       "        <td>2574354284</td>\n",
       "        <td>9</td>\n",
       "    </tr>\n",
       "    <tr>\n",
       "        <td>2491545055</td>\n",
       "        <td>3</td>\n",
       "    </tr>\n",
       "    <tr>\n",
       "        <td>2491545053</td>\n",
       "        <td>5</td>\n",
       "    </tr>\n",
       "    <tr>\n",
       "        <td>2491545051</td>\n",
       "        <td>2</td>\n",
       "    </tr>\n",
       "    <tr>\n",
       "        <td>2491543014</td>\n",
       "        <td>2</td>\n",
       "    </tr>\n",
       "    <tr>\n",
       "        <td>2491543006</td>\n",
       "        <td>2</td>\n",
       "    </tr>\n",
       "    <tr>\n",
       "        <td>2397909513</td>\n",
       "        <td>3</td>\n",
       "    </tr>\n",
       "    <tr>\n",
       "        <td>2397907496</td>\n",
       "        <td>3</td>\n",
       "    </tr>\n",
       "    <tr>\n",
       "        <td>2397905736</td>\n",
       "        <td>3</td>\n",
       "    </tr>\n",
       "    <tr>\n",
       "        <td>236315339</td>\n",
       "        <td>4</td>\n",
       "    </tr>\n",
       "    <tr>\n",
       "        <td>1833753344</td>\n",
       "        <td>3</td>\n",
       "    </tr>\n",
       "    <tr>\n",
       "        <td>125017937</td>\n",
       "        <td>4</td>\n",
       "    </tr>\n",
       "</table>"
      ],
      "text/plain": [
       "[('802228084', 2),\n",
       " ('802192124', 2),\n",
       " ('5577469201', 5),\n",
       " ('5291408314', 4),\n",
       " ('481461235', 3),\n",
       " ('458589351', 5),\n",
       " ('4486234357', 2),\n",
       " ('4486234327', 3),\n",
       " ('3821674294', 6),\n",
       " ('334633471', 4),\n",
       " ('319416603', 3),\n",
       " ('319416602', 3),\n",
       " ('2912759369', 7),\n",
       " ('2574354284', 9),\n",
       " ('2491545055', 3),\n",
       " ('2491545053', 5),\n",
       " ('2491545051', 2),\n",
       " ('2491543014', 2),\n",
       " ('2491543006', 2),\n",
       " ('2397909513', 3),\n",
       " ('2397907496', 3),\n",
       " ('2397905736', 3),\n",
       " ('236315339', 4),\n",
       " ('1833753344', 3),\n",
       " ('125017937', 4)]"
      ]
     },
     "execution_count": 24,
     "metadata": {},
     "output_type": "execute_result"
    }
   ],
   "source": [
    "%%sql\n",
    "\n",
    "SELECT nwt.id, COUNT(key) as Number\n",
    "FROM (SELECT * FROM nodes_tags UNION ALL SELECT * FROM ways_tags) as nwt\n",
    "      INNER JOIN\n",
    "     (SELECT DISTINCT(id) FROM nodes_tags WHERE nodes_tags.value='restaurant'\n",
    "      AND nodes_tags.id NOT IN\n",
    "                       (SELECT ways_nodes.node_id FROM ways_nodes\n",
    "                        JOIN\n",
    "                       (SELECT DISTINCT(id) FROM ways_tags WHERE ways_tags.value='restaurant') as dnwt\n",
    "                       ON ways_nodes.id = dnwt.id)\n",
    "      UNION ALL\n",
    "      SELECT DISTINCT(id) FROM ways_tags WHERE ways_tags.value='restaurant') as dwt\n",
    "      ON nwt.id=dwt.id\n",
    "      \n",
    "GROUP BY nwt.id\n",
    "ORDER BY nwt.id DESC\n"
   ]
  },
  {
   "cell_type": "markdown",
   "metadata": {},
   "source": [
    "<a id='References'></a>\n",
    "## References\n",
    "OpenStreetMap Wiki: https://wiki.openstreetmap.org/wiki/Using_OpenStreetMap  \n",
    "Jupyter Magics with SQL:\n",
    "https://towardsdatascience.com/jupyter-magics-with-sql-921370099589  \n",
    "GitHub :\n",
    "https://github.com/tf-coreml/tf-coreml/issues/134"
   ]
  },
  {
   "cell_type": "code",
   "execution_count": null,
   "metadata": {},
   "outputs": [],
   "source": []
  }
 ],
 "metadata": {
  "kernelspec": {
   "display_name": "Python [default]",
   "language": "python",
   "name": "python3"
  },
  "language_info": {
   "codemirror_mode": {
    "name": "ipython",
    "version": 3
   },
   "file_extension": ".py",
   "mimetype": "text/x-python",
   "name": "python",
   "nbconvert_exporter": "python",
   "pygments_lexer": "ipython3",
   "version": "3.6.4"
  }
 },
 "nbformat": 4,
 "nbformat_minor": 2
}
